{
 "cells": [
  {
   "cell_type": "code",
   "execution_count": 16,
   "id": "eb518104-2e54-4f25-b2df-517a04b052f0",
   "metadata": {},
   "outputs": [],
   "source": [
    "from withings_api import AuthScope, WithingsApi, WithingsAuth\n",
    "from withings_api.common import CredentialsType, GetSleepField, GetSleepSummaryField\n",
    "from typing import cast\n",
    "import pickle\n",
    "import arrow\n",
    "\n",
    "\n"
   ]
  },
  {
   "cell_type": "code",
   "execution_count": 3,
   "id": "f36fe7a7-6d94-4e67-9682-94bd4d7e2bd2",
   "metadata": {},
   "outputs": [],
   "source": [
    "\n",
    "\n",
    "CREDENTIALS_FILE= \"../.credentials\"\n",
    "\n",
    "def load_credentials() -> CredentialsType:\n",
    "    \"\"\"Load credentials from a file.\"\"\"\n",
    "    print(\"Using credentials saved in:\", CREDENTIALS_FILE)\n",
    "    with open(CREDENTIALS_FILE, \"rb\") as file_handle:\n",
    "        return cast(CredentialsType, pickle.load(file_handle))\n",
    "\n",
    "def save_credentials(credentials: CredentialsType) -> None:\n",
    "    \"\"\"Save credentials to a file.\"\"\"\n",
    "    print(\"Saving credentials in:\", CREDENTIALS_FILE)\n",
    "    with open(CREDENTIALS_FILE, \"wb\") as file_handle:\n",
    "        pickle.dump(credentials, file_handle)"
   ]
  },
  {
   "cell_type": "code",
   "execution_count": 18,
   "id": "89d7a69c-3142-49e6-9fe9-6bff44755419",
   "metadata": {},
   "outputs": [],
   "source": []
  },
  {
   "cell_type": "code",
   "execution_count": 10,
   "id": "cc1e4130-d7cb-4988-8eac-54d1ab09799d",
   "metadata": {},
   "outputs": [
    {
     "name": "stdout",
     "output_type": "stream",
     "text": [
      "Using credentials saved in: ../.credentials\n"
     ]
    }
   ],
   "source": [
    "api = WithingsApi(load_credentials(), refresh_cb=save_credentials)\n",
    "try:\n",
    "    api.user_get_device()\n",
    "except MissingTokenError:\n",
    "    os.remove(CREDENTIALS_FILE)\n",
    "    print(\"Credentials in file are expired. Re-starting auth procedure...\")"
   ]
  },
  {
   "cell_type": "code",
   "execution_count": 28,
   "id": "d035559c-f6e9-4667-a616-673d5e88d4bf",
   "metadata": {},
   "outputs": [],
   "source": [
    "startdate= \"2022-10-03\" \n",
    "enddate= \"2024-01-01\""
   ]
  },
  {
   "cell_type": "code",
   "execution_count": 30,
   "id": "1a3246fb-a14f-4f6a-b989-41f948809c6e",
   "metadata": {},
   "outputs": [],
   "source": [
    "sleep_data=api.sleep_get_summary(startdateymd=startdate,enddateymd=enddate, data_fields=\"\")"
   ]
  },
  {
   "cell_type": "code",
   "execution_count": 31,
   "id": "3ae3073b-a392-4ab6-b1af-7b0da7fc59a6",
   "metadata": {},
   "outputs": [
    {
     "ename": "NameError",
     "evalue": "name 'info' is not defined",
     "output_type": "error",
     "traceback": [
      "\u001b[0;31m---------------------------------------------------------------------------\u001b[0m",
      "\u001b[0;31mNameError\u001b[0m                                 Traceback (most recent call last)",
      "Cell \u001b[0;32mIn[31], line 1\u001b[0m\n\u001b[0;32m----> 1\u001b[0m \u001b[43minfo\u001b[49m(sleep_data)\n",
      "\u001b[0;31mNameError\u001b[0m: name 'info' is not defined"
     ]
    }
   ],
   "source": [
    "info(sleep_data)"
   ]
  },
  {
   "cell_type": "code",
   "execution_count": null,
   "id": "fc681d4e-226c-4fbe-9a20-81f3094763dc",
   "metadata": {},
   "outputs": [],
   "source": []
  },
  {
   "cell_type": "code",
   "execution_count": 27,
   "id": "eeca5b0a-d573-4ee4-b24d-cec1a0c1474f",
   "metadata": {},
   "outputs": [],
   "source": []
  },
  {
   "cell_type": "code",
   "execution_count": null,
   "id": "20bae982-9098-4509-a5d1-73e789cb271b",
   "metadata": {},
   "outputs": [],
   "source": []
  },
  {
   "cell_type": "code",
   "execution_count": null,
   "id": "71c3c398-21db-4ccb-bad3-109ef79527bc",
   "metadata": {},
   "outputs": [],
   "source": []
  }
 ],
 "metadata": {
  "kernelspec": {
   "display_name": "Python 3 (ipykernel)",
   "language": "python",
   "name": "python3"
  },
  "language_info": {
   "codemirror_mode": {
    "name": "ipython",
    "version": 3
   },
   "file_extension": ".py",
   "mimetype": "text/x-python",
   "name": "python",
   "nbconvert_exporter": "python",
   "pygments_lexer": "ipython3",
   "version": "3.11.7"
  }
 },
 "nbformat": 4,
 "nbformat_minor": 5
}
