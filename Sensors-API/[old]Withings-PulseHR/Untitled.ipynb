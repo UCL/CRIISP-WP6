{
 "cells": [
  {
   "cell_type": "code",
   "execution_count": 1,
   "id": "eb518104-2e54-4f25-b2df-517a04b052f0",
   "metadata": {},
   "outputs": [],
   "source": [
    "from withings_api import AuthScope, WithingsApi, WithingsAuth\n",
    "from withings_api.common import CredentialsType, GetSleepField, GetSleepSummaryField\n",
    "from typing import cast\n",
    "import pickle\n",
    "import arrow"
   ]
  },
  {
   "cell_type": "code",
   "execution_count": 2,
   "id": "f36fe7a7-6d94-4e67-9682-94bd4d7e2bd2",
   "metadata": {},
   "outputs": [],
   "source": [
    "\n",
    "\n",
    "CREDENTIALS_FILE= \"../.credentials\"\n",
    "\n",
    "def load_credentials() -> CredentialsType:\n",
    "    \"\"\"Load credentials from a file.\"\"\"\n",
    "    print(\"Using credentials saved in:\", CREDENTIALS_FILE)\n",
    "    with open(CREDENTIALS_FILE, \"rb\") as file_handle:\n",
    "        return cast(CredentialsType, pickle.load(file_handle))\n",
    "\n",
    "def save_credentials(credentials: CredentialsType) -> None:\n",
    "    \"\"\"Save credentials to a file.\"\"\"\n",
    "    print(\"Saving credentials in:\", CREDENTIALS_FILE)\n",
    "    with open(CREDENTIALS_FILE, \"wb\") as file_handle:\n",
    "        pickle.dump(credentials, file_handle)"
   ]
  },
  {
   "cell_type": "code",
   "execution_count": 18,
   "id": "89d7a69c-3142-49e6-9fe9-6bff44755419",
   "metadata": {},
   "outputs": [],
   "source": []
  },
  {
   "cell_type": "code",
   "execution_count": 3,
   "id": "cc1e4130-d7cb-4988-8eac-54d1ab09799d",
   "metadata": {},
   "outputs": [
    {
     "name": "stdout",
     "output_type": "stream",
     "text": [
      "Using credentials saved in: ../.credentials\n"
     ]
    },
    {
     "ename": "NameError",
     "evalue": "name 'MissingTokenError' is not defined",
     "output_type": "error",
     "traceback": [
      "\u001b[0;31m---------------------------------------------------------------------------\u001b[0m",
      "\u001b[0;31mAuthFailedException\u001b[0m                       Traceback (most recent call last)",
      "Cell \u001b[0;32mIn[3], line 3\u001b[0m\n\u001b[1;32m      2\u001b[0m \u001b[38;5;28;01mtry\u001b[39;00m:\n\u001b[0;32m----> 3\u001b[0m     \u001b[43mapi\u001b[49m\u001b[38;5;241;43m.\u001b[39;49m\u001b[43muser_get_device\u001b[49m\u001b[43m(\u001b[49m\u001b[43m)\u001b[49m\n\u001b[1;32m      4\u001b[0m \u001b[38;5;28;01mexcept\u001b[39;00m MissingTokenError:\n",
      "File \u001b[0;32m~/CRIISP-WP6/venv/lib/python3.11/site-packages/withings_api/__init__.py:126\u001b[0m, in \u001b[0;36mAbstractWithingsApi.user_get_device\u001b[0;34m(self)\u001b[0m\n\u001b[1;32m    120\u001b[0m \u001b[38;5;250m\u001b[39m\u001b[38;5;124;03m\"\"\"\u001b[39;00m\n\u001b[1;32m    121\u001b[0m \u001b[38;5;124;03mGet user device.\u001b[39;00m\n\u001b[1;32m    122\u001b[0m \n\u001b[1;32m    123\u001b[0m \u001b[38;5;124;03mSome data related to user profile are available through those services.\u001b[39;00m\n\u001b[1;32m    124\u001b[0m \u001b[38;5;124;03m\"\"\"\u001b[39;00m\n\u001b[1;32m    125\u001b[0m \u001b[38;5;28;01mreturn\u001b[39;00m UserGetDeviceResponse(\n\u001b[0;32m--> 126\u001b[0m     \u001b[38;5;241m*\u001b[39m\u001b[38;5;241m*\u001b[39m\u001b[38;5;28;43mself\u001b[39;49m\u001b[38;5;241;43m.\u001b[39;49m\u001b[43mrequest\u001b[49m\u001b[43m(\u001b[49m\u001b[43mpath\u001b[49m\u001b[38;5;241;43m=\u001b[39;49m\u001b[38;5;28;43mself\u001b[39;49m\u001b[38;5;241;43m.\u001b[39;49m\u001b[43mPATH_V2_USER\u001b[49m\u001b[43m,\u001b[49m\u001b[43m \u001b[49m\u001b[43mparams\u001b[49m\u001b[38;5;241;43m=\u001b[39;49m\u001b[43m{\u001b[49m\u001b[38;5;124;43m\"\u001b[39;49m\u001b[38;5;124;43maction\u001b[39;49m\u001b[38;5;124;43m\"\u001b[39;49m\u001b[43m:\u001b[49m\u001b[43m \u001b[49m\u001b[38;5;124;43m\"\u001b[39;49m\u001b[38;5;124;43mgetdevice\u001b[39;49m\u001b[38;5;124;43m\"\u001b[39;49m\u001b[43m}\u001b[49m\u001b[43m)\u001b[49m\n\u001b[1;32m    127\u001b[0m )\n",
      "File \u001b[0;32m~/CRIISP-WP6/venv/lib/python3.11/site-packages/withings_api/__init__.py:115\u001b[0m, in \u001b[0;36mAbstractWithingsApi.request\u001b[0;34m(self, path, params, method)\u001b[0m\n\u001b[1;32m    114\u001b[0m \u001b[38;5;250m\u001b[39m\u001b[38;5;124;03m\"\"\"Request a specific service.\"\"\"\u001b[39;00m\n\u001b[0;32m--> 115\u001b[0m \u001b[38;5;28;01mreturn\u001b[39;00m \u001b[43mresponse_body_or_raise\u001b[49m\u001b[43m(\u001b[49m\n\u001b[1;32m    116\u001b[0m \u001b[43m    \u001b[49m\u001b[38;5;28;43mself\u001b[39;49m\u001b[38;5;241;43m.\u001b[39;49m\u001b[43m_request\u001b[49m\u001b[43m(\u001b[49m\u001b[43mmethod\u001b[49m\u001b[38;5;241;43m=\u001b[39;49m\u001b[43mmethod\u001b[49m\u001b[43m,\u001b[49m\u001b[43m \u001b[49m\u001b[43mpath\u001b[49m\u001b[38;5;241;43m=\u001b[39;49m\u001b[43mpath\u001b[49m\u001b[43m,\u001b[49m\u001b[43m \u001b[49m\u001b[43mparams\u001b[49m\u001b[38;5;241;43m=\u001b[39;49m\u001b[43mparams\u001b[49m\u001b[43m)\u001b[49m\n\u001b[1;32m    117\u001b[0m \u001b[43m\u001b[49m\u001b[43m)\u001b[49m\n",
      "File \u001b[0;32m~/CRIISP-WP6/venv/lib/python3.11/site-packages/withings_api/common.py:828\u001b[0m, in \u001b[0;36mresponse_body_or_raise\u001b[0;34m(data)\u001b[0m\n\u001b[1;32m    827\u001b[0m \u001b[38;5;28;01mif\u001b[39;00m status \u001b[38;5;129;01min\u001b[39;00m STATUS_AUTH_FAILED:\n\u001b[0;32m--> 828\u001b[0m     \u001b[38;5;28;01mraise\u001b[39;00m AuthFailedException(status\u001b[38;5;241m=\u001b[39mstatus)\n\u001b[1;32m    829\u001b[0m \u001b[38;5;28;01mif\u001b[39;00m status \u001b[38;5;129;01min\u001b[39;00m STATUS_INVALID_PARAMS:\n",
      "\u001b[0;31mAuthFailedException\u001b[0m: Error code 401",
      "\nDuring handling of the above exception, another exception occurred:\n",
      "\u001b[0;31mNameError\u001b[0m                                 Traceback (most recent call last)",
      "Cell \u001b[0;32mIn[3], line 4\u001b[0m\n\u001b[1;32m      2\u001b[0m \u001b[38;5;28;01mtry\u001b[39;00m:\n\u001b[1;32m      3\u001b[0m     api\u001b[38;5;241m.\u001b[39muser_get_device()\n\u001b[0;32m----> 4\u001b[0m \u001b[38;5;28;01mexcept\u001b[39;00m \u001b[43mMissingTokenError\u001b[49m:\n\u001b[1;32m      5\u001b[0m     os\u001b[38;5;241m.\u001b[39mremove(CREDENTIALS_FILE)\n\u001b[1;32m      6\u001b[0m     \u001b[38;5;28mprint\u001b[39m(\u001b[38;5;124m\"\u001b[39m\u001b[38;5;124mCredentials in file are expired. Re-starting auth procedure...\u001b[39m\u001b[38;5;124m\"\u001b[39m)\n",
      "\u001b[0;31mNameError\u001b[0m: name 'MissingTokenError' is not defined"
     ]
    }
   ],
   "source": [
    "api = WithingsApi(load_credentials(), refresh_cb=save_credentials)\n",
    "try:\n",
    "    api.user_get_device()\n",
    "except MissingTokenError:\n",
    "    os.remove(CREDENTIALS_FILE)\n",
    "    print(\"Credentials in file are expired. Re-starting auth procedure...\")"
   ]
  },
  {
   "cell_type": "code",
   "execution_count": 28,
   "id": "d035559c-f6e9-4667-a616-673d5e88d4bf",
   "metadata": {},
   "outputs": [],
   "source": [
    "startdate= \"2022-10-03\" \n",
    "enddate= \"2024-01-01\""
   ]
  },
  {
   "cell_type": "code",
   "execution_count": 30,
   "id": "1a3246fb-a14f-4f6a-b989-41f948809c6e",
   "metadata": {},
   "outputs": [],
   "source": [
    "sleep_data=api.sleep_get_summary(startdateymd=startdate,enddateymd=enddate, data_fields=\"\")"
   ]
  },
  {
   "cell_type": "code",
   "execution_count": 31,
   "id": "3ae3073b-a392-4ab6-b1af-7b0da7fc59a6",
   "metadata": {},
   "outputs": [
    {
     "ename": "NameError",
     "evalue": "name 'info' is not defined",
     "output_type": "error",
     "traceback": [
      "\u001b[0;31m---------------------------------------------------------------------------\u001b[0m",
      "\u001b[0;31mNameError\u001b[0m                                 Traceback (most recent call last)",
      "Cell \u001b[0;32mIn[31], line 1\u001b[0m\n\u001b[0;32m----> 1\u001b[0m \u001b[43minfo\u001b[49m(sleep_data)\n",
      "\u001b[0;31mNameError\u001b[0m: name 'info' is not defined"
     ]
    }
   ],
   "source": [
    "info(sleep_data)"
   ]
  },
  {
   "cell_type": "code",
   "execution_count": null,
   "id": "fc681d4e-226c-4fbe-9a20-81f3094763dc",
   "metadata": {},
   "outputs": [],
   "source": []
  },
  {
   "cell_type": "code",
   "execution_count": 27,
   "id": "eeca5b0a-d573-4ee4-b24d-cec1a0c1474f",
   "metadata": {},
   "outputs": [],
   "source": []
  },
  {
   "cell_type": "code",
   "execution_count": null,
   "id": "20bae982-9098-4509-a5d1-73e789cb271b",
   "metadata": {},
   "outputs": [],
   "source": []
  },
  {
   "cell_type": "code",
   "execution_count": null,
   "id": "71c3c398-21db-4ccb-bad3-109ef79527bc",
   "metadata": {},
   "outputs": [],
   "source": []
  }
 ],
 "metadata": {
  "kernelspec": {
   "display_name": "Python 3 (ipykernel)",
   "language": "python",
   "name": "python3"
  },
  "language_info": {
   "codemirror_mode": {
    "name": "ipython",
    "version": 3
   },
   "file_extension": ".py",
   "mimetype": "text/x-python",
   "name": "python",
   "nbconvert_exporter": "python",
   "pygments_lexer": "ipython3",
   "version": "3.11.7"
  }
 },
 "nbformat": 4,
 "nbformat_minor": 5
}
