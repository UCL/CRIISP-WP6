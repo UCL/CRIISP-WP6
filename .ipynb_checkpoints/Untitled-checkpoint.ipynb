{
 "cells": [
  {
   "cell_type": "markdown",
   "id": "8fc39452-4b73-4b61-9832-a31cce917ce5",
   "metadata": {},
   "source": [
    "#  Python-Fitbit documentation master file, created by\n",
    "     sphinx-quickstart on Wed Mar 14 18:51:57 2012.\n",
    "     You can adapt this file completely to your liking, but it should at least\n",
    "     contain the root `toctree` directive.\n",
    "  \n",
    "##  Overview\n",
    "  \n",
    "  This is a complete python implementation of the Fitbit API.\n",
    "  \n",
    "  It uses oAuth for authentication, it supports both us and si\n",
    "  measurements\n",
    "  \n",
    "##  Quickstart\n",
    "  \n",
    "  If you are only retrieving data that doesn't require authorization, then you can use the unauthorized interface::\n",
    "  \n",
    "      import fitbit\n",
    "      unauth_client = fitbit.Fitbit('<consumer_key>', '<consumer_secret>')\n",
    "      # certain methods do not require user keys\n",
    "      unauth_client.food_units()\n",
    "  \n",
    "  Here is an example of authorizing with OAuth 2.0::\n",
    "  \n",
    "      # You'll have to gather the tokens on your own, or use\n",
    "      # ./gather_keys_oauth2.py\n",
    "      authd_client = fitbit.Fitbit('<consumer_key>', '<consumer_secret>',\n",
    "                                   access_token='<access_token>', refresh_token='<refresh_token>')\n",
    "      authd_client.sleep()\n",
    "  "
   ]
  },
  {
   "cell_type": "code",
   "execution_count": 2,
   "id": "f8047a82-2a15-4e72-81cf-7506316e29f6",
   "metadata": {},
   "outputs": [],
   "source": [
    "\n",
    "#%matplotlib inline\n",
    "import matplotlib.pyplot as plt\n",
    "import fitbit\n"
   ]
  },
  {
   "cell_type": "code",
   "execution_count": 3,
   "id": "886e1f02-38d2-4c97-9d66-4fbac2a77093",
   "metadata": {},
   "outputs": [
    {
     "ename": "ModuleNotFoundError",
     "evalue": "No module named 'gather_keys_oauth2'",
     "output_type": "error",
     "traceback": [
      "\u001b[0;31m---------------------------------------------------------------------------\u001b[0m",
      "\u001b[0;31mModuleNotFoundError\u001b[0m                       Traceback (most recent call last)",
      "Cell \u001b[0;32mIn[3], line 4\u001b[0m\n\u001b[1;32m      1\u001b[0m \u001b[38;5;66;03m# gather_keys_oauth2.py file needs to be in the same directory. \u001b[39;00m\n\u001b[1;32m      2\u001b[0m \u001b[38;5;66;03m# also needs to install cherrypy: https://pypi.org/project/CherryPy/\u001b[39;00m\n\u001b[1;32m      3\u001b[0m \u001b[38;5;66;03m# pip install CherryPy\u001b[39;00m\n\u001b[0;32m----> 4\u001b[0m \u001b[38;5;28;01mimport\u001b[39;00m \u001b[38;5;21;01mgather_keys_oauth2\u001b[39;00m \u001b[38;5;28;01mas\u001b[39;00m \u001b[38;5;21;01mOauth2\u001b[39;00m\n\u001b[1;32m      5\u001b[0m \u001b[38;5;28;01mimport\u001b[39;00m \u001b[38;5;21;01mpandas\u001b[39;00m \u001b[38;5;28;01mas\u001b[39;00m \u001b[38;5;21;01mpd\u001b[39;00m \n\u001b[1;32m      6\u001b[0m \u001b[38;5;28;01mimport\u001b[39;00m \u001b[38;5;21;01mdatetime\u001b[39;00m\n",
      "\u001b[0;31mModuleNotFoundError\u001b[0m: No module named 'gather_keys_oauth2'"
     ]
    }
   ],
   "source": [
    "# gather_keys_oauth2.py file needs to be in the same directory. \n",
    "# also needs to install cherrypy: https://pypi.org/project/CherryPy/\n",
    "# pip install CherryPy\n",
    "import gather_keys_oauth2 as Oauth2\n",
    "import pandas as pd \n",
    "import datetime\n"
   ]
  }
 ],
 "metadata": {
  "kernelspec": {
   "display_name": "Python 3 (ipykernel)",
   "language": "python",
   "name": "python3"
  },
  "language_info": {
   "codemirror_mode": {
    "name": "ipython",
    "version": 3
   },
   "file_extension": ".py",
   "mimetype": "text/x-python",
   "name": "python",
   "nbconvert_exporter": "python",
   "pygments_lexer": "ipython3",
   "version": "3.11.7"
  }
 },
 "nbformat": 4,
 "nbformat_minor": 5
}
